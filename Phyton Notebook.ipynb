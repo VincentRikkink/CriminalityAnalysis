{
    "nbformat_minor": 1, 
    "cells": [
        {
            "source": "## Criminality Analysis in and around Eindhoven based on Nightclub density", 
            "cell_type": "markdown", 
            "metadata": {}
        }, 
        {
            "source": "In this project I will analyze the criminality in the communities (like Veldhoven, Best, Son en Breugel, etc.) that surround Eindhoven en within Eindhoven as well. The data will be normalized with the total number of citizens and then compared with the nightclub density in these communities centers equally normalized as above. The idea is to see whether there is a correlation between the number of nightclubs and the number of crimes in a big city and its surrounding neighbourhoods.\n\nI will need the following datasets:\n\n    CBS: total number of citizens per community\n\n    CBS: Crime numbers per community\n\n    FourSquare: Extract the number of nightclubs in the center of the community\n\nIn a scatter plot I will present the results with on the x-axis the number of citizens and on the y-axis the crime number.\nAnother scatter plot will present the night clubs against the crime number.\n\nThe crime numbers per nightclub will be presented in a map.", 
            "cell_type": "markdown", 
            "metadata": {
                "collapsed": true
            }
        }, 
        {
            "execution_count": 8, 
            "cell_type": "code", 
            "metadata": {}, 
            "outputs": [
                {
                    "output_type": "stream", 
                    "name": "stdout", 
                    "text": "Fetching package metadata .............\nSolving package specifications: .\n\nPackage plan for installation in environment /opt/conda/envs/DSX-Python35:\n\nThe following NEW packages will be INSTALLED:\n\n    geographiclib: 1.49-py_0   conda-forge\n    geopy:         1.17.0-py_0 conda-forge\n\ngeographiclib- 100% |################################| Time: 0:00:00  21.92 MB/s\ngeopy-1.17.0-p 100% |################################| Time: 0:00:00  34.13 MB/s\nFetching package metadata .............\nSolving package specifications: .\n\nPackage plan for installation in environment /opt/conda/envs/DSX-Python35:\n\nThe following NEW packages will be INSTALLED:\n\n    altair:  2.2.2-py35_1 conda-forge\n    branca:  0.3.1-py_0   conda-forge\n    folium:  0.5.0-py_0   conda-forge\n    vincent: 0.4.4-py_1   conda-forge\n\naltair-2.2.2-p 100% |################################| Time: 0:00:00  14.13 MB/s\nbranca-0.3.1-p 100% |################################| Time: 0:00:00  28.63 MB/s\nvincent-0.4.4- 100% |################################| Time: 0:00:00  30.13 MB/s\nfolium-0.5.0-p 100% |################################| Time: 0:00:00  35.89 MB/s\nFolium installed\nLibraries imported.\n"
                }
            ], 
            "source": "!conda install -c conda-forge geopy --yes \nfrom geopy.geocoders import Nominatim # module to convert an address into latitude and longitude values\nimport requests # library to handle requests\nimport pandas as pd # library for data analsysis\nimport numpy as np # library to handle data in a vectorized manner\nimport random # library for random number generation\nimport sys\nimport types\nfrom botocore.client import Config\nimport ibm_boto3\n\n# libraries for displaying images\nfrom IPython.display import Image \nfrom IPython.core.display import HTML \n    \n# tranforming json file into a pandas dataframe library\nfrom pandas.io.json import json_normalize\n\n!conda install -c conda-forge folium=0.5.0 --yes\nimport folium # plotting library\n\nprint('Folium installed')\nprint('Libraries imported.')"
        }, 
        {
            "execution_count": 80, 
            "cell_type": "code", 
            "metadata": {}, 
            "outputs": [
                {
                    "output_type": "stream", 
                    "name": "stdout", 
                    "text": "Your credentails:\nCLIENT_ID: G0J5OAHPW0BXWMYQZZ1OWZHBA52QXULOEWEDSC2RBSVIVLHL\nCLIENT_SECRET:QSIB15KATEOQOLA3VDOSJORDYLL5KDE1P5JSHVTHAW0FB2A2\n"
                }
            ], 
            "source": "# The code was removed by Watson Studio for sharing."
        }, 
        {
            "execution_count": 93, 
            "cell_type": "code", 
            "metadata": {}, 
            "outputs": [], 
            "source": "cities = [\"Eindhoven\",\"Eersel\",\"Best\",\"Waalre\",\"Valkenswaard\",\"Geldrop\",\"Nuenen\",\"Son en Breugel\", \"Oirschot\", \"Veldhoven\"]\naddresses = dict([(k, \"Center \"+str(k)+\" The Netherlands\") for k in cities])"
        }, 
        {
            "execution_count": 94, 
            "cell_type": "code", 
            "metadata": {}, 
            "outputs": [
                {
                    "output_type": "stream", 
                    "name": "stderr", 
                    "text": "/opt/conda/envs/DSX-Python35/lib/python3.5/site-packages/geopy/geocoders/osm.py:143: UserWarning: Using Nominatim with the default \"geopy/1.17.0\" `user_agent` is strongly discouraged, as it violates Nominatim's ToS https://operations.osmfoundation.org/policies/nominatim/ and may possibly cause 403 and 429 HTTP errors. Please specify a custom `user_agent` with `Nominatim(user_agent=\"my-application\")` or by overriding the default `user_agent`: `geopy.geocoders.options.default_user_agent = \"my-application\"`. In geopy 2.0 this will become an exception.\n  UserWarning\n"
                }, 
                {
                    "output_type": "stream", 
                    "name": "stdout", 
                    "text": "51.3876404 5.4476871\n51.4392648 5.478633\n51.5032385 5.3155486\n51.40770635 5.3927310581764\n51.48603 5.54400698882424\n51.350688 5.4594497\n51.3586373 5.3201315\n51.4221992 5.55918218839069\n51.510017 5.39866199005647\n51.5178128 5.49143470757426\n"
                }
            ], 
            "source": "geolocator = Nominatim()\nlocations = []\nfor key, value in addresses.items(): locations.append(geolocator.geocode(addresses[key]))\n\nfor item in range(0,len(locations)): print(locations[item].latitude, locations[item].longitude)"
        }, 
        {
            "execution_count": 98, 
            "cell_type": "code", 
            "metadata": {}, 
            "outputs": [
                {
                    "execution_count": 98, 
                    "metadata": {}, 
                    "data": {
                        "text/html": "<div>\n<style scoped>\n    .dataframe tbody tr th:only-of-type {\n        vertical-align: middle;\n    }\n\n    .dataframe tbody tr th {\n        vertical-align: top;\n    }\n\n    .dataframe thead th {\n        text-align: right;\n    }\n</style>\n<table border=\"1\" class=\"dataframe\">\n  <thead>\n    <tr style=\"text-align: right;\">\n      <th></th>\n      <th>Soort misdrijf</th>\n      <th>Perioden</th>\n      <th>Regio's</th>\n      <th>Geregistreerde misdrijven/Totaal geregistreerde misdrijven (aantal)</th>\n      <th>Geregistreerde misdrijven/Geregistreerde misdrijven, relatief (% van totaal geregistreerde misdrijven)</th>\n      <th>Geregistreerde misdrijven/Geregistreerde misdrijven per 1000 inw.  (per 1 000 inwoners)</th>\n    </tr>\n  </thead>\n  <tbody>\n    <tr>\n      <th>0</th>\n      <td>Misdrijven, totaal</td>\n      <td>2017*</td>\n      <td>Best</td>\n      <td>1100</td>\n      <td>100</td>\n      <td>37.6</td>\n    </tr>\n    <tr>\n      <th>1</th>\n      <td>1 Vermogensmisdrijven</td>\n      <td>2017*</td>\n      <td>Best</td>\n      <td>645</td>\n      <td>59</td>\n      <td>22.2</td>\n    </tr>\n    <tr>\n      <th>2</th>\n      <td>1.1 Diefstal/verduistering en inbraak</td>\n      <td>2017*</td>\n      <td>Best</td>\n      <td>540</td>\n      <td>49</td>\n      <td>18.5</td>\n    </tr>\n    <tr>\n      <th>3</th>\n      <td>1.1.1 Diefstal en inbraak met geweld</td>\n      <td>2017*</td>\n      <td>Best</td>\n      <td>10</td>\n      <td>1</td>\n      <td>.</td>\n    </tr>\n    <tr>\n      <th>4</th>\n      <td>1.1.2 Diefstal en inbraak zonder geweld</td>\n      <td>2017*</td>\n      <td>Best</td>\n      <td>530</td>\n      <td>48</td>\n      <td>18.2</td>\n    </tr>\n  </tbody>\n</table>\n</div>", 
                        "text/plain": "                            Soort misdrijf Perioden Regio's  \\\n0                       Misdrijven, totaal    2017*    Best   \n1                    1 Vermogensmisdrijven    2017*    Best   \n2    1.1 Diefstal/verduistering en inbraak    2017*    Best   \n3     1.1.1 Diefstal en inbraak met geweld    2017*    Best   \n4  1.1.2 Diefstal en inbraak zonder geweld    2017*    Best   \n\n   Geregistreerde misdrijven/Totaal geregistreerde misdrijven (aantal)  \\\n0                                               1100                     \n1                                                645                     \n2                                                540                     \n3                                                 10                     \n4                                                530                     \n\n   Geregistreerde misdrijven/Geregistreerde misdrijven, relatief (% van totaal geregistreerde misdrijven)  \\\n0                                                100                                                        \n1                                                 59                                                        \n2                                                 49                                                        \n3                                                  1                                                        \n4                                                 48                                                        \n\n  Geregistreerde misdrijven/Geregistreerde misdrijven per 1000 inw.  (per 1 000 inwoners)  \n0                                               37.6                                       \n1                                               22.2                                       \n2                                               18.5                                       \n3                                                  .                                       \n4                                               18.2                                       "
                    }, 
                    "output_type": "execute_result"
                }
            ], 
            "source": "# The code was removed by Watson Studio for sharing."
        }, 
        {
            "execution_count": null, 
            "cell_type": "code", 
            "metadata": {}, 
            "outputs": [], 
            "source": ""
        }
    ], 
    "metadata": {
        "kernelspec": {
            "display_name": "Python 3.5", 
            "name": "python3", 
            "language": "python"
        }, 
        "language_info": {
            "mimetype": "text/x-python", 
            "nbconvert_exporter": "python", 
            "version": "3.5.5", 
            "name": "python", 
            "file_extension": ".py", 
            "pygments_lexer": "ipython3", 
            "codemirror_mode": {
                "version": 3, 
                "name": "ipython"
            }
        }
    }, 
    "nbformat": 4
}