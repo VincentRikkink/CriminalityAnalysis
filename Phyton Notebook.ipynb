{
    "nbformat_minor": 1, 
    "cells": [
        {
            "source": "# Criminality Analysis in and around Eindhoven based on Nightclub density", 
            "cell_type": "markdown", 
            "metadata": {}
        }, 
        {
            "source": "## Abstract", 
            "cell_type": "markdown", 
            "metadata": {}
        }, 
        {
            "source": "In this project I will analyze the criminality in the communities (like Veldhoven, Best, Son en Breugel, etc.) that surround Eindhoven en within Eindhoven as well. The data will be normalized with the total number of citizens and then compared with the nightclub density in these communities centers equally normalized as above. The idea is to see whether there is a correlation between the number of nightclubs and the number of crimes in a big city and its surrounding neighbourhoods.", 
            "cell_type": "markdown", 
            "metadata": {}
        }, 
        {
            "source": "# Business case", 
            "cell_type": "markdown", 
            "metadata": {}
        }, 
        {
            "source": "The idea is that the community councellors have a tool to predict crime development in relation to the number of nightclubs in a certain neighbourhood. Based on these results they might adopt a different security strategy (e.g. police surveillance) per Neighbourhood.\n", 
            "cell_type": "markdown", 
            "metadata": {
                "collapsed": true
            }
        }, 
        {
            "source": "# Data Sets", 
            "cell_type": "markdown", 
            "metadata": {}
        }, 
        {
            "source": "I will need the following datasets:\n\n    Total number of citizens per community\n\n    Crime numbers per community\n\n    Extract the number of nightclubs in the center of the community\n    \nThe first two data sets, I can obtain from the Dutch Office of Statistics (CBS.nl).\nThe number of nightclubs can be obtained from searches on Foursquare.\n", 
            "cell_type": "markdown", 
            "metadata": {}
        }, 
        {
            "source": "# Visualization", 
            "cell_type": "markdown", 
            "metadata": {}
        }, 
        {
            "source": "In a scatter plot I will present the results with on the x-axis the number of citizens and on the y-axis the crime number.\nAnother scatter plot will present the night clubs against the crime number.\n\nThe crime numbers per nightclub will be presented in a map.\n\nIn this first week, only a map of Eindhoven and its Neighbourhoods will be presented.", 
            "cell_type": "markdown", 
            "metadata": {}
        }, 
        {
            "execution_count": 1, 
            "cell_type": "code", 
            "metadata": {}, 
            "outputs": [
                {
                    "output_type": "stream", 
                    "name": "stdout", 
                    "text": "Fetching package metadata .............\nSolving package specifications: .\n\nPackage plan for installation in environment /opt/conda/envs/DSX-Python35:\n\nThe following NEW packages will be INSTALLED:\n\n    geographiclib: 1.49-py_0   conda-forge\n    geopy:         1.17.0-py_0 conda-forge\n\ngeographiclib- 100% |################################| Time: 0:00:00  23.44 MB/s\ngeopy-1.17.0-p 100% |################################| Time: 0:00:00  34.75 MB/s\nFetching package metadata .............\nSolving package specifications: .\n\nPackage plan for installation in environment /opt/conda/envs/DSX-Python35:\n\nThe following NEW packages will be INSTALLED:\n\n    altair:  2.2.2-py35_1 conda-forge\n    branca:  0.3.1-py_0   conda-forge\n    folium:  0.5.0-py_0   conda-forge\n    vincent: 0.4.4-py_1   conda-forge\n\naltair-2.2.2-p 100% |################################| Time: 0:00:00  54.84 MB/s\nbranca-0.3.1-p 100% |################################| Time: 0:00:00  31.47 MB/s\nvincent-0.4.4- 100% |################################| Time: 0:00:00  37.72 MB/s\nfolium-0.5.0-p 100% |################################| Time: 0:00:00  45.49 MB/s\nFolium installed\nLibraries imported.\n"
                }
            ], 
            "source": "!conda install -c conda-forge geopy --yes \nfrom geopy.geocoders import Nominatim # module to convert an address into latitude and longitude values\nimport requests # library to handle requests\nimport pandas as pd # library for data analsysis\nimport numpy as np # library to handle data in a vectorized manner\nimport random # library for random number generation\nimport sys\nimport types\nfrom botocore.client import Config\nimport ibm_boto3\n\n# libraries for displaying images\nfrom IPython.display import Image \nfrom IPython.core.display import HTML \n    \n# tranforming json file into a pandas dataframe library\nfrom pandas.io.json import json_normalize\n\n!conda install -c conda-forge folium=0.5.0 --yes\nimport folium # plotting library\n\nprint('Folium installed')\nprint('Libraries imported.')"
        }, 
        {
            "execution_count": 2, 
            "cell_type": "code", 
            "metadata": {}, 
            "outputs": [
                {
                    "output_type": "stream", 
                    "name": "stdout", 
                    "text": "Your credentails:\nCLIENT_ID: G0J5OAHPW0BXWMYQZZ1OWZHBA52QXULOEWEDSC2RBSVIVLHL\nCLIENT_SECRET:QSIB15KATEOQOLA3VDOSJORDYLL5KDE1P5JSHVTHAW0FB2A2\n"
                }
            ], 
            "source": "# The code was removed by Watson Studio for sharing."
        }, 
        {
            "execution_count": 3, 
            "cell_type": "code", 
            "metadata": {}, 
            "outputs": [], 
            "source": "# Make a list of cities/neighbourhods of Eindhoven:\ncities = [\"Eindhoven\",\"Eersel\",\"Best\",\"Waalre\",\"Valkenswaard\",\"Geldrop\",\"Nuenen\",\"Son en Breugel\", \"Oirschot\", \"Veldhoven\"]\n\n# Define search strings for each neighbourhood to be used in getting its longitude and latitude:\naddresses = dict([(k, \"Center \"+str(k)+\" The Netherlands\") for k in cities])"
        }, 
        {
            "execution_count": 4, 
            "cell_type": "code", 
            "metadata": {}, 
            "outputs": [
                {
                    "output_type": "stream", 
                    "name": "stderr", 
                    "text": "/opt/conda/envs/DSX-Python35/lib/python3.5/site-packages/geopy/geocoders/osm.py:143: UserWarning: Using Nominatim with the default \"geopy/1.17.0\" `user_agent` is strongly discouraged, as it violates Nominatim's ToS https://operations.osmfoundation.org/policies/nominatim/ and may possibly cause 403 and 429 HTTP errors. Please specify a custom `user_agent` with `Nominatim(user_agent=\"my-application\")` or by overriding the default `user_agent`: `geopy.geocoders.options.default_user_agent = \"my-application\"`. In geopy 2.0 this will become an exception.\n  UserWarning\n"
                }
            ], 
            "source": "# Store location information in a list:\ngeolocator = Nominatim()\nlocations = []\nfor key, value in addresses.items(): locations.append(geolocator.geocode(addresses[key]))\n\n#for item in range(0,len(locations)): print(locations[item].latitude, locations[item].longitude)"
        }, 
        {
            "execution_count": 5, 
            "cell_type": "code", 
            "metadata": {}, 
            "outputs": [
                {
                    "execution_count": 5, 
                    "metadata": {}, 
                    "data": {
                        "text/html": "<div>\n<style scoped>\n    .dataframe tbody tr th:only-of-type {\n        vertical-align: middle;\n    }\n\n    .dataframe tbody tr th {\n        vertical-align: top;\n    }\n\n    .dataframe thead th {\n        text-align: right;\n    }\n</style>\n<table border=\"1\" class=\"dataframe\">\n  <thead>\n    <tr style=\"text-align: right;\">\n      <th></th>\n      <th>lat</th>\n      <th>lng</th>\n    </tr>\n    <tr>\n      <th>place</th>\n      <th></th>\n      <th></th>\n    </tr>\n  </thead>\n  <tbody>\n    <tr>\n      <th>Waalre</th>\n      <td>51.387640</td>\n      <td>5.447687</td>\n    </tr>\n    <tr>\n      <th>Veldhoven</th>\n      <td>51.407706</td>\n      <td>5.392731</td>\n    </tr>\n    <tr>\n      <th>Oirschot</th>\n      <td>51.503239</td>\n      <td>5.315549</td>\n    </tr>\n    <tr>\n      <th>Nuenen</th>\n      <td>51.486030</td>\n      <td>5.544007</td>\n    </tr>\n    <tr>\n      <th>Geldrop</th>\n      <td>51.422199</td>\n      <td>5.559182</td>\n    </tr>\n    <tr>\n      <th>Son en Breugel</th>\n      <td>51.517813</td>\n      <td>5.491435</td>\n    </tr>\n    <tr>\n      <th>Eersel</th>\n      <td>51.358637</td>\n      <td>5.320131</td>\n    </tr>\n    <tr>\n      <th>Best</th>\n      <td>51.510017</td>\n      <td>5.398662</td>\n    </tr>\n    <tr>\n      <th>Eindhoven</th>\n      <td>51.439265</td>\n      <td>5.478633</td>\n    </tr>\n    <tr>\n      <th>Valkenswaard</th>\n      <td>51.350688</td>\n      <td>5.459450</td>\n    </tr>\n  </tbody>\n</table>\n</div>", 
                        "text/plain": "                      lat       lng\nplace                              \nWaalre          51.387640  5.447687\nVeldhoven       51.407706  5.392731\nOirschot        51.503239  5.315549\nNuenen          51.486030  5.544007\nGeldrop         51.422199  5.559182\nSon en Breugel  51.517813  5.491435\nEersel          51.358637  5.320131\nBest            51.510017  5.398662\nEindhoven       51.439265  5.478633\nValkenswaard    51.350688  5.459450"
                    }, 
                    "output_type": "execute_result"
                }
            ], 
            "source": "# Make dataframe with place & location:\nheaders = [\"place\",\"location\"]\ndf=pd.DataFrame(locations, columns=headers)\n\n# Split location in latitude and Longitude:\ndf[['lat', 'lng']]=df[\"location\"].apply(pd.Series)\ndf.drop([\"location\"], axis=1, inplace=True)\n\n# Clean up Place:\ndf['place']=df['place'].str.replace(',.*','')\ndf.set_index(\"place\", inplace=True)\ndf.head(10)"
        }, 
        {
            "execution_count": 6, 
            "cell_type": "code", 
            "metadata": {}, 
            "outputs": [
                {
                    "execution_count": 6, 
                    "metadata": {}, 
                    "data": {
                        "text/html": "<div style=\"width:100%;\"><div style=\"position:relative;width:100%;height:0;padding-bottom:60%;\"><iframe src=\"data:text/html;charset=utf-8;base64,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\" style=\"position:absolute;width:100%;height:100%;left:0;top:0;border:none !important;\" allowfullscreen webkitallowfullscreen mozallowfullscreen></iframe></div></div>", 
                        "text/plain": "<folium.folium.Map at 0x7f8e5390bb00>"
                    }, 
                    "output_type": "execute_result"
                }
            ], 
            "source": "# generate map centred around EindhovenL\nRegion_map = folium.Map(location=[df.lat['Eindhoven'], df.lng['Eindhoven']], zoom_start=12) \n\n# add a red circle marker to represent the center of Eindhoven\nfolium.features.CircleMarker(\n    [df.lat['Eindhoven'], df.lng['Eindhoven']],\n    radius=10,\n    color='red',\n    popup='Eindhoven',\n    fill = True,\n    fill_color = 'red',\n    fill_opacity = 0.6\n).add_to(Region_map)\n\n# add the Neighbourhoods as blue circle markers\nfor lat, lng, label in zip(df.lat, df.lng, df.index):\n    if label != 'Eindhoven':\n        folium.features.CircleMarker(\n            [lat, lng],\n            radius=5,\n            color='blue',\n            popup=label,\n            fill = True,\n            fill_color='blue',\n            fill_opacity=0.6\n        ).add_to(Region_map)\n# display map\nRegion_map"
        }, 
        {
            "execution_count": 7, 
            "cell_type": "code", 
            "metadata": {}, 
            "outputs": [
                {
                    "execution_count": 7, 
                    "metadata": {}, 
                    "data": {
                        "text/html": "<div>\n<style scoped>\n    .dataframe tbody tr th:only-of-type {\n        vertical-align: middle;\n    }\n\n    .dataframe tbody tr th {\n        vertical-align: top;\n    }\n\n    .dataframe thead th {\n        text-align: right;\n    }\n</style>\n<table border=\"1\" class=\"dataframe\">\n  <thead>\n    <tr style=\"text-align: right;\">\n      <th></th>\n      <th>Crime</th>\n      <th>Eindhoven</th>\n      <th>Eersel</th>\n      <th>Best</th>\n      <th>Waalre</th>\n      <th>Valkenswaard</th>\n      <th>Geldrop</th>\n      <th>Nuenen</th>\n      <th>SonenBreugel</th>\n      <th>Oirschot</th>\n      <th>Veldhoven</th>\n    </tr>\n  </thead>\n  <tbody>\n    <tr>\n      <th>0</th>\n      <td>Misdrijven, totaal</td>\n      <td>18600</td>\n      <td>700</td>\n      <td>1100</td>\n      <td>475</td>\n      <td>1220</td>\n      <td>1565</td>\n      <td>705</td>\n      <td>665</td>\n      <td>675</td>\n      <td>1370</td>\n    </tr>\n    <tr>\n      <th>1</th>\n      <td>1 Vermogensmisdrijven</td>\n      <td>11535</td>\n      <td>380</td>\n      <td>645</td>\n      <td>330</td>\n      <td>610</td>\n      <td>915</td>\n      <td>435</td>\n      <td>450</td>\n      <td>430</td>\n      <td>775</td>\n    </tr>\n    <tr>\n      <th>2</th>\n      <td>1.1 Diefstal/verduistering en inbraak</td>\n      <td>10315</td>\n      <td>325</td>\n      <td>540</td>\n      <td>235</td>\n      <td>475</td>\n      <td>775</td>\n      <td>375</td>\n      <td>375</td>\n      <td>355</td>\n      <td>620</td>\n    </tr>\n    <tr>\n      <th>3</th>\n      <td>1.1.1 Diefstal en inbraak met geweld</td>\n      <td>175</td>\n      <td>5</td>\n      <td>10</td>\n      <td>5</td>\n      <td>5</td>\n      <td>5</td>\n      <td>15</td>\n      <td>10</td>\n      <td>5</td>\n      <td>10</td>\n    </tr>\n    <tr>\n      <th>4</th>\n      <td>1.1.2 Diefstal en inbraak zonder geweld</td>\n      <td>10140</td>\n      <td>320</td>\n      <td>530</td>\n      <td>225</td>\n      <td>475</td>\n      <td>765</td>\n      <td>360</td>\n      <td>370</td>\n      <td>350</td>\n      <td>610</td>\n    </tr>\n  </tbody>\n</table>\n</div>", 
                        "text/plain": "                                     Crime  Eindhoven  Eersel  Best  Waalre  \\\n0                       Misdrijven, totaal      18600     700  1100     475   \n1                    1 Vermogensmisdrijven      11535     380   645     330   \n2    1.1 Diefstal/verduistering en inbraak      10315     325   540     235   \n3     1.1.1 Diefstal en inbraak met geweld        175       5    10       5   \n4  1.1.2 Diefstal en inbraak zonder geweld      10140     320   530     225   \n\n   Valkenswaard  Geldrop  Nuenen  SonenBreugel  Oirschot  Veldhoven  \n0          1220     1565     705           665       675       1370  \n1           610      915     435           450       430        775  \n2           475      775     375           375       355        620  \n3             5        5      15            10         5         10  \n4           475      765     360           370       350        610  "
                    }, 
                    "output_type": "execute_result"
                }
            ], 
            "source": "# The code was removed by Watson Studio for sharing."
        }, 
        {
            "execution_count": 8, 
            "cell_type": "code", 
            "metadata": {}, 
            "outputs": [], 
            "source": "# Rename one column to get same signature as other table and transpose dataframe:\ndf_data_1.rename(columns={'SonenBreugel': 'Son en Breugel'}, inplace=True)\ndf_data_1.set_index(\"Crime\", inplace=True)\ndf_data_1 = df_data_1.transpose()\n# Keep only the relevant data being the total number of crimes:\ndf_data_1 = df_data_1[['Misdrijven, totaal']]\ndf_data_1.rename(columns={'Misdrijven, totaal': 'Totals'}, inplace=True)"
        }, 
        {
            "execution_count": 9, 
            "cell_type": "code", 
            "metadata": {}, 
            "outputs": [
                {
                    "execution_count": 9, 
                    "metadata": {}, 
                    "data": {
                        "text/html": "<div>\n<style scoped>\n    .dataframe tbody tr th:only-of-type {\n        vertical-align: middle;\n    }\n\n    .dataframe tbody tr th {\n        vertical-align: top;\n    }\n\n    .dataframe thead th {\n        text-align: right;\n    }\n</style>\n<table border=\"1\" class=\"dataframe\">\n  <thead>\n    <tr style=\"text-align: right;\">\n      <th>Crime</th>\n      <th>Totals</th>\n    </tr>\n  </thead>\n  <tbody>\n    <tr>\n      <th>Eindhoven</th>\n      <td>18600</td>\n    </tr>\n    <tr>\n      <th>Eersel</th>\n      <td>700</td>\n    </tr>\n    <tr>\n      <th>Best</th>\n      <td>1100</td>\n    </tr>\n    <tr>\n      <th>Waalre</th>\n      <td>475</td>\n    </tr>\n    <tr>\n      <th>Valkenswaard</th>\n      <td>1220</td>\n    </tr>\n    <tr>\n      <th>Geldrop</th>\n      <td>1565</td>\n    </tr>\n    <tr>\n      <th>Nuenen</th>\n      <td>705</td>\n    </tr>\n    <tr>\n      <th>Son en Breugel</th>\n      <td>665</td>\n    </tr>\n    <tr>\n      <th>Oirschot</th>\n      <td>675</td>\n    </tr>\n    <tr>\n      <th>Veldhoven</th>\n      <td>1370</td>\n    </tr>\n  </tbody>\n</table>\n</div>", 
                        "text/plain": "Crime           Totals\nEindhoven        18600\nEersel             700\nBest              1100\nWaalre             475\nValkenswaard      1220\nGeldrop           1565\nNuenen             705\nSon en Breugel     665\nOirschot           675\nVeldhoven         1370"
                    }, 
                    "output_type": "execute_result"
                }
            ], 
            "source": "df_data_1.head(10)"
        }, 
        {
            "execution_count": null, 
            "cell_type": "code", 
            "metadata": {}, 
            "outputs": [], 
            "source": ""
        }
    ], 
    "metadata": {
        "kernelspec": {
            "display_name": "Python 3.5", 
            "name": "python3", 
            "language": "python"
        }, 
        "language_info": {
            "mimetype": "text/x-python", 
            "nbconvert_exporter": "python", 
            "version": "3.5.5", 
            "name": "python", 
            "file_extension": ".py", 
            "pygments_lexer": "ipython3", 
            "codemirror_mode": {
                "version": 3, 
                "name": "ipython"
            }
        }
    }, 
    "nbformat": 4
}